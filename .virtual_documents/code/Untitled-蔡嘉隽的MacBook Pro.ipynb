import cv2
from matplotlib import pyplot as plt
import numpy as np
from skimage import draw
import ipywidgets as widgets
from os import walk
import modules.helpers as h
import glob
import os
from IPython.display import display
from IPython.display import Image as IPyImage

get_ipython().run_line_magic("matplotlib", " ipympl")


data_folder = 'data'
h.list_files(data_folder)


sub_dir = './data/oct8/first'
files = glob.glob(f"{sub_dir+os.sep}[!C_]*.JPG") ## Use regex to avoid C_ files

f = lambda x: IPyImage(filename = x,width = 400, height = 200)

wi = widgets.interact(f, x = files)


os.path.dirname(file)+os.sep+f"C_{os.path.basename(file)}"


import cv2

file = wi.widget.kwargs['x']
im = cv2.imread(file)
im[:,:,0] = np.zeros([im.shape[0], im.shape[1]])
im[:,:,1] = np.zeros([im.shape[0], im.shape[1]])
gray = cv2.cvtColor(im, cv2.COLOR_BGR2GRAY)  ## Converted to gray scale image

plt.imshow(gray, cmap='Reds_r')

cv2.imwrite(os.path.dirname(file)+os.sep+f"C_{os.path.basename(file)}", gray) # Export the gray-scale image


import modules.ident as ident
import importlib
importlib.reload(modules.ident)


fig = plt.figure()
ax = fig.add_subplot(111)
ax.imshow(gray,cmap = 'Reds_r')
i = ident.Identifier(ax)
i.connect()






