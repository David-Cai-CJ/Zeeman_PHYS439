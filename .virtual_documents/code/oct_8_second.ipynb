import modules.ident as ident
import cv2
from matplotlib import pyplot as plt
import numpy as np
import ipywidgets as widgets
import modules.helpers as h
import glob
import os
from IPython.display import Image as IPyImage
from matplotlib.patches import Circle
from skimage import draw
from scipy.signal import find_peaks

get_ipython().run_line_magic("matplotlib", " ipympl")
plt.style.use(['seaborn-paper','science'])
plt.ioff()


data_folder = 'data'
# h.list_files(data_folder)


SeeAllFiles = True


sub_dir = './data/oct8/second'
sci_peak_data_dir = sub_dir+os.sep+"sci_peak_data"
pickle_dir = sub_dir+os.sep+"obj"

all_files = glob.glob(f"{sub_dir+os.sep}[!C_]*.JPG") ## Use regex to avoid C_ files

if SeeAllFiles == True:
    Ofiles = all_files
else:
    Ofiles = [f for f in all_files if os.path.basename(f).replace("JPG",'pkl') not in os.listdir(pickle_dir)]
    
f = lambda x: IPyImage(filename = x,width = 400, height = 200)
wi = widgets.interact(f, x = Ofiles)


fname = wi.widget.kwargs['x']
f_string = os.path.basename(fname)
data_dict = h.load_obj(f_string.replace(".JPG",""), pickle_dir)
fig = plt.figure()
ax = fig.add_subplot(1,1,1)
im = cv2.imread(fname).astype(np.float32)
ax.imshow(im[:,:,-1],cmap = 'plasma')
ax.scatter(*data_dict['p1'])
ax.scatter(*data_dict['p2'])
fig.show()









