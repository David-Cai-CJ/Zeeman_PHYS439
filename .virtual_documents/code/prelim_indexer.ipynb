import modules.ident as ident
import cv2
from matplotlib import pyplot as plt
import numpy as np
import ipywidgets as widgets
import modules.helpers as h
import glob
import os
from IPython.display import Image as IPyImage
from matplotlib.patches import Circle
from skimage import draw
from scipy.signal import find_peaks
import importlib 
importlib.reload(modules.ident)
importlib.reload(modules.helpers)

get_ipython().run_line_magic("matplotlib", " ipympl")
plt.style.use(['seaborn-paper','science'])
plt.ioff()


data_folder = 'data'
# h.list_files(data_folder)


SeeAllFiles = True


sub_dir = './data/oct8/second'
sci_peak_data_dir = sub_dir+os.sep+"sci_peak_data"
pickle_dir = sub_dir+os.sep+"obj"

all_files = glob.glob(f"{sub_dir+os.sep}[!C_]*.JPG") ## Use regex to avoid C_ files

if SeeAllFiles == True:
    Ofiles = all_files
else:
    Ofiles = [f for f in all_files if os.path.basename(f).replace("JPG",'pkl') not in os.listdir(pickle_dir)]

f = lambda x: IPyImage(filename = x,width = 400, height = 200)
wi = widgets.interact(f, x = Ofiles)


del(profiler)
fname = wi.widget.kwargs['x']
f_string = os.path.basename(fname)

fig = plt.figure()
ax = fig.add_subplot(1,1,1)
im = cv2.imread(fname).astype(np.float32)
ax.imshow(im[:,:,-1],cmap = 'plasma')
profiler = ident.Identifier(ax)
profiler.connect()
fig.show()


profiler.export()


pos_dict = dict()

p1,p2 = profiler.export()
p1 = list(map(round,p1)) ; pos_dict['p1'] = np.array(p1);
p2 = list(map(round,p2)) ; pos_dict['p2'] = np.array(p2);
image = cv2.line(im.copy(), p1, p2, (255, 255, 255), 2)
line = np.transpose(np.array(draw.line(*p1,*p2)))
data = im.copy()[line[:, 1], line[:, 0], 2]
dist = np.array([np.sqrt((p[0]-p1[0])**2+(p[1]-p1[1])**2) for p in line])
## Change the dist range
sel = dist > 450
data = data[sel]
dist = dist[sel]



plt.close()
fig = plt.figure()
sci_peaks, _ = find_peaks(data, height = 15, distance = 90,prominence=(0.7, None))
plt.plot(dist, data)
plt.plot(dist[sci_peaks], data[sci_peaks], "D", ms = 4)
fig = plt.gcf()
plt.show()

try:
    os.mkdir(sub_dir+os.sep+"sci_peaks")
except FileExistsError:
    pass

fig.savefig(sub_dir+os.sep+'sci_peaks'+os.sep + 'Sci_'+f_string.replace('JPG','pdf'),format= 'pdf', bbox_inches = 'tight')



plt.close()
fig = plt.figure()
sci_troughs, _ = find_peaks(-data, height = -2, distance = 90,prominence=(.8, None))
plt.plot(dist, -data)
plt.plot(dist[sci_troughs], -data[sci_troughs], "D", ms = 4)
ax = plt.gca()
fig.show()


for idx in range(4):
    center = dist[sci_peaks[idx]]
    left = dist[sci_troughs[idx]]
    right = dist[sci_troughs[idx+1]]
    ## Export left_center_right arrays to dictionary for futher fitting
    pos_dict[idx] = np.array([left,center,right])


try:
    os.mkdir(sci_peak_data_dir)
except FileExistsError:
    pass

f_no_extension = f_string[:f_string.find('.')]
np.save(sci_peak_data_dir + os.sep + f_no_extension+'_data.npy', data)
np.save(sci_peak_data_dir + os.sep + f_no_extension+'_dist.npy', dist)


try:
    os.mkdir(pickle_dir)
except FileExistsError:
    pass

h.save_obj(pos_dict,f_string.replace('.JPG',''),directory= pickle_dir)


h.load_obj(f_string.replace('.JPG',''),directory= pickle_dir)






